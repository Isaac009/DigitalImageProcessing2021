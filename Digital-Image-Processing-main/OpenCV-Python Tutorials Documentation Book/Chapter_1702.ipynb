{
 "cells": [
  {
   "cell_type": "markdown",
   "metadata": {},
   "source": [
    "# Pose Estimation"
   ]
  },
  {
   "cell_type": "code",
   "execution_count": 1,
   "metadata": {},
   "outputs": [],
   "source": [
    "import numpy as np\n",
    "import cv2\n",
    "import glob\n",
    "from matplotlib import pyplot as plt"
   ]
  },
  {
   "cell_type": "code",
   "execution_count": 2,
   "metadata": {},
   "outputs": [],
   "source": [
    "# termination criteria\n",
    "criteria=(cv2.TERM_CRITERIA_EPS+cv2.TERM_CRITERIA_MAX_ITER,30,0.001)\n",
    "\n",
    "n = 7\n",
    "m = 10\n",
    "# prepare object points, like (0,0,0), (1,0,0), (2,0,0) ....,(6,5,0)\n",
    "objp=np.zeros((n*m,3), np.float32)\n",
    "objp[:,:2]=np.mgrid[0:n,0:m].T.reshape(-1,2)\n",
    "\n",
    "# Arrays to store object points and image points from all the images.\n",
    "objpoints=[] # 3d point in real world space\n",
    "imgpoints=[] # 2d points in image plane.\n",
    "\n",
    "images=glob.glob('.\\iphone\\*.png')"
   ]
  },
  {
   "cell_type": "code",
   "execution_count": 3,
   "metadata": {},
   "outputs": [],
   "source": [
    "for fname in images:\n",
    "    img=cv2.imread(fname)\n",
    "    gray=cv2.cvtColor(img,cv2.COLOR_BGR2GRAY)\n",
    "\n",
    "    # Find the chess board corners\n",
    "    ret, corners=cv2.findChessboardCorners(gray, (n,m),None)\n",
    "\n",
    "    # If found, add object points, image points (after refining them)\n",
    "    if ret== True:\n",
    "        objpoints.append(objp)\n",
    "        \n",
    "        corners2=cv2.cornerSubPix(gray,corners,(11,11),(-1,-1),criteria)\n",
    "        imgpoints.append(corners2)\n",
    "\n",
    "        # Draw and display the corners\n",
    "        img=cv2.drawChessboardCorners(img, (n,m), corners2,ret)\n",
    "        cv2.imshow('img',img)\n",
    "        cv2.waitKey(500)\n",
    "    \n",
    "cv2.destroyAllWindows()"
   ]
  },
  {
   "cell_type": "code",
   "execution_count": 4,
   "metadata": {},
   "outputs": [],
   "source": [
    "ret, mtx, dist, rvecs, tvecs=cv2.calibrateCamera(objpoints, imgpoints,\n",
    "                                                 gray.shape[::-1],None,None)"
   ]
  },
  {
   "cell_type": "code",
   "execution_count": 5,
   "metadata": {},
   "outputs": [],
   "source": [
    "def draw(img, corners, imgpts):\n",
    "    corner=tuple(corners[0].ravel())\n",
    "    img=cv2.line(img, corner,tuple(imgpts[0].ravel()), (255,0,0),5)\n",
    "    img=cv2.line(img, corner,tuple(imgpts[1].ravel()), (0,255,0),5)\n",
    "    img=cv2.line(img, corner,tuple(imgpts[2].ravel()), (0,0,255),5)\n",
    "    return img"
   ]
  },
  {
   "cell_type": "code",
   "execution_count": 6,
   "metadata": {},
   "outputs": [],
   "source": [
    "def drawBox(img, corners, imgpts):\n",
    "    imgpts = np.int32(imgpts).reshape(-1,2)\n",
    "    \n",
    "    # draw ground floor in green\n",
    "    img = cv2.drawContours(img, [imgpts[:4]],-1,(0,255,0),-3)\n",
    "    \n",
    "    # draw pillars in blue color\n",
    "    for i,j in zip(range(4),range(4,8)):\n",
    "        img = cv2.line(img, tuple(imgpts[i]), tuple(imgpts[j]),(255),3)\n",
    "    \n",
    "    # draw top layer in red color\n",
    "    img = cv2.drawContours(img, [imgpts[4:]],-1,(0,0,255),3)\n",
    "    return img"
   ]
  },
  {
   "cell_type": "code",
   "execution_count": 7,
   "metadata": {},
   "outputs": [],
   "source": [
    "criteria=(cv2.TERM_CRITERIA_EPS+cv2.TERM_CRITERIA_MAX_ITER,30,0.001)\n",
    "objp=np.zeros((n*m,3), np.float32)\n",
    "objp[:,:2]=np.mgrid[0:n,0:m].T.reshape(-1,2)\n",
    "\n",
    "axis=np.float32([[3,0,0], [0,3,0], [0,0,-3]]).reshape(-1,3)\n",
    "axisBox = np.float32([[0,0,0], [0,3,0], [3,3,0], [3,0,0],[0,0,-3],[0,3,-3],[3,3,-3],[3,0,-3] ])"
   ]
  },
  {
   "cell_type": "code",
   "execution_count": 9,
   "metadata": {},
   "outputs": [],
   "source": [
    "for fname in glob.glob('.\\iphone\\*.png'):\n",
    "    img=cv2.imread(fname)\n",
    "    gray=cv2.cvtColor(img,cv2.COLOR_BGR2GRAY)\n",
    "    ret, corners=cv2.findChessboardCorners(gray, (n,m),None)\n",
    "    \n",
    "    if ret== True:\n",
    "        corners2=cv2.cornerSubPix(gray,corners,(11,11),(-1,-1),criteria)\n",
    "        \n",
    "        # Find the rotation and translation vectors.\n",
    "        ret, rvecs, tvecs, inliers=cv2.solvePnPRansac(objp, corners2, mtx, dist)\n",
    "        \n",
    "        # project 3D points to image plane\n",
    "        imgpts, jac=cv2.projectPoints(axisBox, rvecs, tvecs, mtx, dist)\n",
    "        \n",
    "        img=drawBox(img,corners2,imgpts)\n",
    "        cv2.imshow('img',img)\n",
    "        k=cv2.waitKey(0)&0xff\n",
    "        \n",
    "        if k=='s':\n",
    "            cv2.imwrite(fname[:6]+'.png', img)\n",
    "            \n",
    "cv2.destroyAllWindows()"
   ]
  },
  {
   "cell_type": "code",
   "execution_count": null,
   "metadata": {},
   "outputs": [],
   "source": []
  }
 ],
 "metadata": {
  "kernelspec": {
   "display_name": "Python [conda env:tf2_gpu]",
   "language": "python",
   "name": "conda-env-tf2_gpu-py"
  },
  "language_info": {
   "codemirror_mode": {
    "name": "ipython",
    "version": 3
   },
   "file_extension": ".py",
   "mimetype": "text/x-python",
   "name": "python",
   "nbconvert_exporter": "python",
   "pygments_lexer": "ipython3",
   "version": "3.7.7"
  }
 },
 "nbformat": 4,
 "nbformat_minor": 4
}
