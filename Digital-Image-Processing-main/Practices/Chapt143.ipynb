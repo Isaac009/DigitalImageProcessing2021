{
 "cells": [
  {
   "cell_type": "markdown",
   "id": "alpine-champagne",
   "metadata": {},
   "source": [
    "## 1.4.3 Geometric Transformations of Images"
   ]
  },
  {
   "cell_type": "markdown",
   "id": "baking-thesaurus",
   "metadata": {},
   "source": [
    "### Goals\n",
    "• Learn to apply different geometric transformation to images like translation, rotation, affine transformation etc.\n",
    "• You will see these functions: cv2.getPerspectiveTransform"
   ]
  },
  {
   "cell_type": "code",
   "execution_count": null,
   "id": "special-evening",
   "metadata": {},
   "outputs": [],
   "source": []
  }
 ],
 "metadata": {
  "kernelspec": {
   "display_name": "Python 3",
   "language": "python",
   "name": "python3"
  },
  "language_info": {
   "codemirror_mode": {
    "name": "ipython",
    "version": 3
   },
   "file_extension": ".py",
   "mimetype": "text/x-python",
   "name": "python",
   "nbconvert_exporter": "python",
   "pygments_lexer": "ipython3",
   "version": "3.7.10"
  }
 },
 "nbformat": 4,
 "nbformat_minor": 5
}
