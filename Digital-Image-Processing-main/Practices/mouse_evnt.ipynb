{
 "metadata": {
  "language_info": {
   "codemirror_mode": {
    "name": "ipython",
    "version": 3
   },
   "file_extension": ".py",
   "mimetype": "text/x-python",
   "name": "python",
   "nbconvert_exporter": "python",
   "pygments_lexer": "ipython3",
   "version": "3.6.13-final"
  },
  "orig_nbformat": 2,
  "kernelspec": {
   "name": "python3",
   "display_name": "Python 3.6.13 64-bit ('spinningup': conda)",
   "metadata": {
    "interpreter": {
     "hash": "65ac05a70c2523cbb34aee0d2e978310e8d7913ec0721841b5ca4bd552f763f1"
    }
   }
  }
 },
 "nbformat": 4,
 "nbformat_minor": 2,
 "cells": [
  {
   "cell_type": "code",
   "execution_count": 4,
   "metadata": {},
   "outputs": [],
   "source": [
    "# import the necessary packages\n",
    "import argparse\n",
    "import cv2\n",
    "import numpy as np"
   ]
  },
  {
   "cell_type": "code",
   "execution_count": 21,
   "metadata": {},
   "outputs": [],
   "source": [
    "# initialize the list of reference points and boolean indicating\n",
    "# whether cropping is being performed or not\n",
    "refPt = []\n",
    "x_pt, y_pt = 0, 0\n",
    "font = cv2.FONT_HERSHEY_SIMPLEX\n",
    "\n",
    "def nothing(x):\n",
    "    pass\n",
    "\n",
    "def displayText(x,y):\n",
    "    img = image.copy()\n",
    "    color = (0, 0, 255)\n",
    "    blue, green, red = image[y, x, 0], image[y, x, 1], image[y, x, 2]\n",
    "    \n",
    "\n",
    "    text = \"Mouse Position : (\" + str(x) + ',' + str(y) + \")  => Color RGB: (\" + str(red) + ',' + str(green) + ',' + str(blue) + \")\"\n",
    "    cv2.putText(img, text, (30,40), font, 1, color , 2) \n",
    "    cv2.imshow('image', img)\n",
    "\n",
    "\n",
    "def click_and_crop(event, x, y, flags, param):\n",
    "    # grab references to the global variables\n",
    "    global refPt\n",
    "    # if the left mouse button was clicked, record the starting\n",
    "    # (x, y) coordinates and indicate that cropping is being\n",
    "    # performed\n",
    "    if event == cv2.EVENT_RBUTTONDOWN:\n",
    "        refPt = [(x, y)]\n",
    "        cropping = True\n",
    "    # check to see if the left mouse button was released\n",
    "    elif event == cv2.EVENT_RBUTTONUP:\n",
    "        # record the ending (x, y) coordinates and indicate rectangle\n",
    "        refPt.append((x, y))\n",
    "        # cv2.rectangle(image, start_point, end_point, color, thickness)\n",
    "        cv2.rectangle(image, refPt[0], refPt[1], (255, 0, 0), -1)\n",
    "        # out = cv2.addWeighted(image, 1.0, blk, 0.3, 1)\n",
    "        # cv2.imshow(\"image\", image)\n",
    "\n",
    "    x_pt, y_pt = x, y\n",
    "    displayText(x_pt,y_pt)\n",
    "\n",
    "image = cv2.imread(\"messi.jpg\")\n",
    "clone = image.copy()\n",
    "cv2.namedWindow(\"image\")\n",
    "cv2.setMouseCallback(\"image\", click_and_crop)\n",
    "cv2.createTrackbar('value','image',0,1,nothing)\n",
    "cv2.imshow('image', image)\n",
    "# keep looping until the 'ESC' key is pressed\n",
    "while True:\n",
    "    value = cv2.getTrackbarPos(\"value\", \"image\")\n",
    "    # display the image and wait for a keypress\n",
    "    k = cv2.waitKey(1)&0xFF\n",
    "    # if the 'r' key is pressed, reset the cropping region\n",
    "    if key == ord(\"r\"):\n",
    "        image = clone.copy()\n",
    "    elif k==27:\n",
    "        break\n",
    "cv2.destroyAllWindows()"
   ]
  },
  {
   "cell_type": "code",
   "execution_count": null,
   "metadata": {},
   "outputs": [],
   "source": []
  }
 ]
}