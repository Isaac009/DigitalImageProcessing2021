{
 "cells": [
  {
   "cell_type": "code",
   "execution_count": 1,
   "id": "greek-bangkok",
   "metadata": {},
   "outputs": [],
   "source": [
    "### OBJECT TRACKING"
   ]
  },
  {
   "cell_type": "code",
   "execution_count": 2,
   "metadata": {},
   "outputs": [],
   "source": [
    "import cv2\n",
    "import numpy as np\n",
    "cap = cv2.VideoCapture('tracking2.avi')"
   ]
  },
  {
   "cell_type": "code",
   "execution_count": 3,
   "id": "dominant-symphony",
   "metadata": {},
   "outputs": [],
   "source": [
    "def nothing(x):\n",
    "    pass"
   ]
  },
  {
   "cell_type": "code",
   "execution_count": 4,
   "id": "fatty-night",
   "metadata": {},
   "outputs": [],
   "source": [
    "# Create a black image, a window\n",
    "# img = np.zeros((300,512,3), np.uint8)\n",
    "\n",
    "cv2.namedWindow('frame')\n",
    "\n",
    "# create trackbars for color change\n",
    "cv2.createTrackbar('H','frame',0,360,nothing)\n",
    "cv2.createTrackbar('M','frame',0,100,nothing)"
   ]
  },
  {
   "cell_type": "code",
   "execution_count": 5,
   "id": "economic-miniature",
   "metadata": {},
   "outputs": [],
   "source": [
    "while(cap.isOpened()):\n",
    "    ret, frame = cap.read()\n",
    "    if ret :\n",
    "        # Convert BGR to HSV\n",
    "        hsv = cv2.cvtColor(frame, cv2.COLOR_BGR2HSV)\n",
    "        # get current positions of four trackbars\n",
    "        h = cv2.getTrackbarPos('H','frame')\n",
    "        m = cv2.getTrackbarPos('M','frame')\n",
    "        # define range of blue color in HSV\n",
    "        lower_blue = np.array([h-m,50,50])\n",
    "        upper_blue = np.array([h+m,255,255])\n",
    "        # Threshold the HSV image to get only blue colors\n",
    "        mask = cv2.inRange(hsv, lower_blue, upper_blue)\n",
    "        # Bitwise-AND mask and original image\n",
    "        res = cv2.bitwise_and(frame,frame, mask= mask)\n",
    "        cv2.imshow('frame',frame)\n",
    "        cv2.imshow('mask',mask)\n",
    "        cv2.imshow('res',res)\n",
    "    k = cv2.waitKey(5) & 0xFF\n",
    "    if k == 27:\n",
    "        break\n",
    "cv2.destroyAllWindows()"
   ]
  },
  {
   "cell_type": "code",
   "execution_count": null,
   "id": "editorial-smooth",
   "metadata": {},
   "outputs": [],
   "source": []
  }
 ],
 "metadata": {
  "kernelspec": {
   "display_name": "Python 3",
   "language": "python",
   "name": "python3"
  },
  "language_info": {
   "codemirror_mode": {
    "name": "ipython",
    "version": 3
   },
   "file_extension": ".py",
   "mimetype": "text/x-python",
   "name": "python",
   "nbconvert_exporter": "python",
   "pygments_lexer": "ipython3",
   "version": "3.6.13-final"
  }
 },
 "nbformat": 4,
 "nbformat_minor": 5
}